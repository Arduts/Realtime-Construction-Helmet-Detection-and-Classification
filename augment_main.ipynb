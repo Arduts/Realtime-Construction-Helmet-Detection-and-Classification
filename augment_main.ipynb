{
 "cells": [
  {
   "cell_type": "code",
   "execution_count": 1,
   "metadata": {},
   "outputs": [],
   "source": [
    "%matplotlib inline \n",
    "import matplotlib.pyplot as plt\n",
    "import pandas as pd \n",
    "from datetime import datetime\n",
    "from tqdm import tqdm\n",
    "import pandas as pd \n",
    "import numpy as np \n",
    "import cv2 \n",
    "import os \n",
    "import pickle \n",
    "import random\n",
    "import shutil \n",
    "import uuid\n",
    "# Image augmentation \n",
    "import albumentations as A"
   ]
  },
  {
   "cell_type": "code",
   "execution_count": 2,
   "metadata": {},
   "outputs": [],
   "source": [
    "\n",
    "IMG_SIZE = 256\n",
    "\n",
    "AUGMENTATION_MULTIPLEX = 100\n",
    "AUGMENTATION_OVERSAMPLING = 30\n",
    "\n",
    "DATASET_DIR = 'Helmets'\n",
    "DATA_DIR = 'Data'\n",
    "TRAIN_DATA_DIR =  os.path.join(DATA_DIR, 'train')\n",
    "TEST_DATA_DIR = os.path.join(DATA_DIR, 'test')\n",
    "VALIDATION_DATA_DIR =  os.path.join(DATA_DIR, 'validation')\n",
    "CLASSES = os.listdir(DATASET_DIR)"
   ]
  },
  {
   "cell_type": "code",
   "execution_count": 3,
   "metadata": {},
   "outputs": [],
   "source": [
    "if not os.path.exists(DATA_DIR):\n",
    "    os.mkdir(DATA_DIR)\n",
    "else:\n",
    "    shutil.rmtree(DATA_DIR)\n",
    "    os.mkdir(DATA_DIR)\n",
    "\n",
    "if not os.path.exists(TRAIN_DATA_DIR):\n",
    "    os.mkdir(TRAIN_DATA_DIR)\n",
    "else:\n",
    "    shutil.rmtree(TRAIN_DATA_DIR)\n",
    "    os.mkdir(TRAIN_DATA_DIR)\n",
    "\n",
    "if not os.path.exists(TEST_DATA_DIR):\n",
    "    os.mkdir(TEST_DATA_DIR)\n",
    "else:\n",
    "    shutil.rmtree(TEST_DATA_DIR)\n",
    "    os.mkdir(TEST_DATA_DIR)\n",
    "\n",
    "def random_image_name():\n",
    "    time_stamp = datetime.timestamp(datetime.now())\n",
    "    img_name = f'{time_stamp}_{uuid.uuid4().hex}_{classes}_helmet.jpg'\n",
    "    return img_name "
   ]
  },
  {
   "cell_type": "code",
   "execution_count": 4,
   "metadata": {},
   "outputs": [],
   "source": [
    "for classes in CLASSES:\n",
    "    class_dir = os.path.join(DATASET_DIR, classes)\n",
    "    images = np.array(os.listdir(class_dir))\n",
    "    np.random.shuffle(images)\n",
    "\n",
    "    train_count = int(len(images)*0.80)\n",
    "    test_count =  int(len(images)*0.20)\n",
    "\n",
    "\n",
    "    train = images[:train_count]\n",
    "    test = images[train_count:train_count+test_count]\n",
    "\n",
    "    np.random.shuffle(train)\n",
    "    np.random.shuffle(test)\n",
    "\n",
    "    save_train = os.path.join(TRAIN_DATA_DIR, classes)\n",
    "    save_test = os.path.join(TEST_DATA_DIR, classes)\n",
    "    save_validation = os.path.join(VALIDATION_DATA_DIR, classes)\n",
    "    \n",
    "    if not os.path.exists(save_train):\n",
    "        os.mkdir(save_train)\n",
    "    if not os.path.exists(save_test):\n",
    "        os.mkdir(save_test)\n",
    "\n",
    "    for image_dir in train:\n",
    "        copy_file_dir = os.path.join(class_dir ,image_dir)\n",
    "        save_file_dir = os.path.join(save_train ,random_image_name())\n",
    "        shutil.copyfile(copy_file_dir, save_file_dir)\n",
    "\n",
    "    for image_dir in test:\n",
    "        copy_file_dir = os.path.join(class_dir ,image_dir)\n",
    "        save_file_dir = os.path.join(save_test ,random_image_name())\n",
    "        shutil.copyfile(copy_file_dir, save_file_dir)"
   ]
  },
  {
   "cell_type": "code",
   "execution_count": 5,
   "metadata": {},
   "outputs": [
    {
     "name": "stdout",
     "output_type": "stream",
     "text": [
      "train\ttest\tclass\n",
      "1500\t300\tblue \n",
      "1500\t300\tno helmet \n",
      "1500\t300\tnot helmet \n",
      "1500\t300\tred \n",
      "1500\t300\twhite \n",
      "1500\t300\tyellow \n"
     ]
    }
   ],
   "source": [
    "print('train\\ttest\\tclass')\n",
    "for classes in CLASSES:\n",
    "    train_class_dir = os.path.join(TRAIN_DATA_DIR, classes)\n",
    "    test_class_dir = os.path.join(TEST_DATA_DIR, classes)\n",
    "\n",
    "\n",
    "    train_imges_count = len(os.listdir(class_dir))\n",
    "    test_imges_count = len(os.listdir(test_class_dir))\n",
    "\n",
    "\n",
    "    print(f'{train_imges_count}\\t{test_imges_count}\\t{classes} ')"
   ]
  }
 ],
 "metadata": {
  "kernelspec": {
   "display_name": "Python 3",
   "language": "python",
   "name": "python3"
  },
  "language_info": {
   "codemirror_mode": {
    "name": "ipython",
    "version": 3
   },
   "file_extension": ".py",
   "mimetype": "text/x-python",
   "name": "python",
   "nbconvert_exporter": "python",
   "pygments_lexer": "ipython3",
   "version": "3.9.12"
  },
  "orig_nbformat": 4,
  "vscode": {
   "interpreter": {
    "hash": "83d53be51f826905b77314a1c279da9dff73a13b0bbfcc7c1613a4b0dde8d3cb"
   }
  }
 },
 "nbformat": 4,
 "nbformat_minor": 2
}
